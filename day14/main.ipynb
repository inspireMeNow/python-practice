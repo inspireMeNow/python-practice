{
 "cells": [
  {
   "cell_type": "code",
   "execution_count": 1,
   "metadata": {},
   "outputs": [
    {
     "name": "stdout",
     "output_type": "stream",
     "text": [
      "春天出现的次数是： 13132\n",
      "夏天出现的次数是： 1933\n",
      "秋天出现的次数是： 9768\n",
      "冬天出现的次数是： 908\n"
     ]
    },
    {
     "data": {
      "image/png": "[encoded data removed]",
      "text/plain": [
       "<Figure size 640x480 with 1 Axes>"
      ]
     },
     "metadata": {},
     "output_type": "display_data"
    }
   ],
   "source": [
    "import matplotlib.pyplot as plt\n",
    "import matplotlib.font_manager as fm\n",
    "with open('全唐诗.txt', 'r') as f:\n",
    "    contents = f.read()\n",
    "spring_count = contents.count('春')\n",
    "summer_count = contents.count('夏') + contents.count('暑')\n",
    "autumn_count = contents.count('秋')\n",
    "winter_count = contents.count('冬')\n",
    "print('春天出现的次数是：', spring_count)\n",
    "print('夏天出现的次数是：', summer_count)\n",
    "print('秋天出现的次数是：', autumn_count)\n",
    "print('冬天出现的次数是：', winter_count)\n",
    "plt.bar(['春天', '夏天', '秋天', '冬天'], [spring_count,\n",
    "        summer_count, autumn_count, winter_count])\n",
    "plt.title('《全唐诗》中春夏秋冬出现频次')\n",
    "plt.xlabel('季节')\n",
    "plt.ylabel('出现次数')\n",
    "plt.show()\n"
   ]
  },
  {
   "cell_type": "code",
   "execution_count": 2,
   "metadata": {},
   "outputs": [
    {
     "name": "stdout",
     "output_type": "stream",
     "text": [
      "长安 926\n",
      "太原 108\n",
      "杭州 102\n",
      "邯郸 99\n",
      "徐州 47\n",
      "广州 42\n",
      "长春 30\n",
      "大理 23\n",
      "北京 11\n",
      "上海 10\n",
      "南京 7\n",
      "贵州 2\n"
     ]
    }
   ],
   "source": [
    "import jieba\n",
    "import os\n",
    "with open('全唐诗.txt','r',encoding='utf-8') as f:\n",
    "    text = f.read()\n",
    "words = jieba.lcut(text)\n",
    "with open('地名.txt','r',encoding='utf-8') as f:\n",
    "    place_list = f.read().splitlines()\n",
    "place_count = {}\n",
    "for word in words:\n",
    "    if word in place_list:\n",
    "        place_count[word] = place_count.get(word,0) + 1\n",
    "sorted_place_count = sorted(place_count.items(),key=lambda x: x[1], reverse=True)\n",
    "for place, count in sorted_place_count:\n",
    "    print(place,count)\n"
   ]
  },
  {
   "cell_type": "code",
   "execution_count": 6,
   "metadata": {},
   "outputs": [
    {
     "name": "stdout",
     "output_type": "stream",
     "text": [
      "\n",
      "<!DOCTYPE html>\n",
      "\n",
      "<html>\n",
      "<head>\n",
      "<meta charset=\"utf-8\"/>\n",
      "<meta content=\"ææºæ°æµªç½,æ°æµªé¦é¡µ,æ°é»èµè®¯,æ°æµªæ°é»,æ°æµªæ çº¿\" name=\"keywords\"/>\n",
      "<meta content=\"ææºæ°æµªç½æ¯æ°æµªç½çææºé¨æ·ç½ç«ï¼ä¸ºäº¿ä¸ç¨æ·æé ä¸ä¸ªææºèéä¸ççè¶çº§å¹³å°ï¼æä¾24å°æ¶å¨é¢åæ¶çä¸­æèµè®¯ï¼åå®¹è¦çå½åå¤çªåæ°é»äºä»¶ãä½åèµäºãå¨±ä¹æ¶å°ãäº§ä¸èµè®¯ãå®ç¨ä¿¡æ¯ç­ãææºæ°æµªç½è§¦å±ç - sina.cn\" name=\"description\"/>\n",
      "<meta content=\"width=device-width, initial-scale=1.0, maximum-scale=1.0, minimum-scale=1.0, user-scalable=no\" name=\"viewport\"/>\n",
      "<meta content=\"no-cache, must-revalidate\" http-equiv=\"Cache-Control\"/>\n",
      "<meta content=\"no-cache\" http-equiv=\"Pragma\"/>\n",
      "<meta content=\"telephone=no\" name=\"format-detection\"/>\n",
      "<meta content=\"always\" name=\"referrer\"/>\n",
      "<meta content=\"index, follow\" name=\"robots\"/>\n",
      "<meta content=\"index, follow\" name=\"googlebot\"/>\n",
      "<meta content=\"sina_mobile\" name=\"author\"/>\n",
      "<script type=\"text/javascript\">!function(w,d,m){function r(){var t=100,o=750,e=d.documentElement.clientWidth||w.innerWidth,n=m.max(m.min(e,480),320),h=50;320>=n&&(h=m.floor(n/o*t*.99)),n>320&&362>=n&&(h=m.floor(n/o*t*1)),n>362&&375>=n&&(h=m.floor(n/o*t*1)),n>375&&(h=m.floor(n/o*t*.97)),d.querySelector(\"html\").style.fontSize=h+\"px\"};r();w.onresize=function(){r()}}(window,document,Math);</script>\n",
      "<title>å®æ¶æ´æ°|æ°åå ç¶çæ¯èºçç«æèµè®¯</title>\n",
      "<link href=\"https://mjs.sinaimg.cn//wap/project/h5inhb/1.15.132/index/static/css/vendors_index.chunk.css\" rel=\"stylesheet\"/>\n",
      "<link href=\"https://mjs.sinaimg.cn//wap/project/h5inhb/1.15.132/index/static/css/index.min.css\" rel=\"stylesheet\"/><meta content=\"dataid:wpcomos:181640\" name=\"sudameta\"/></head>\n",
      "<body>\n",
      "<div id=\"app\"></div>\n",
      "<script src=\"https://n.sinaimg.cn/default/dae7ff0c/20200217/zepto.min.js\" type=\"text/javascript\"></script><script src=\"https://mjs.sinaimg.cn/wap/module/login/201706071125/outlogin_layer_mobile.min.js\" type=\"text/javascript\"></script><script src=\"https://mjs.sinaimg.cn/wap/online/public/wapLogin/wapLogin_main.js\" type=\"text/javascript\"></script><script src=\" //mjs.sinaimg.cn/umd/base-tools-SUDA/1.1.32/index.min\" type=\"text/javascript\"></script><script src=\"https://n.sinaimg.cn/default/d662ab71/20200415/sharePoster.min.js\" type=\"text/javascript\"></script><script src=\"https://mjs.sinaimg.cn//wap/project/h5inhb/1.15.132/index/static/js/vendors_index.chunk.js\" type=\"text/javascript\"></script><script src=\"https://mjs.sinaimg.cn//wap/project/h5inhb/1.15.132/index/static/js/index.min.js\" type=\"text/javascript\"></script><script src=\"https://pluto.sina.cn/gk/match?id=1\"></script></body>\n",
      "</html>\n"
     ]
    }
   ],
   "source": [
    "import requests\n",
    "from bs4 import BeautifulSoup\n",
    "url = 'https://news.sina.cn/project/fy2020/yq_province.shtml?province=hebei'\n",
    "response = requests.get(url)\n",
    "soup = BeautifulSoup(response.text, 'html.parser')\n",
    "print(soup)\n",
    "# 获取全国疫情数据\n",
    "# china_data = soup.find('div', {'class': 'areaBlock1'}).find('span').get_text()\n",
    "# print('全国疫情数据：', china_data)\n",
    "# # 获取省份疫情数据\n",
    "# province_list = soup.find('div', {'class': 'areaBox3jZkr'}).findall('div', {'class': 'areaBlock1_3V3UU'})\n",
    "# for province in province_list:\n",
    "#     province_name = province.find('span', {'class': 'provinceName3t5qg'}).gettext()\n",
    "#     province_data = province.find('span', {'class': 'confirmedCount_3d1jk'}).get_text()\n",
    "#     print(province_name, province_data)"
   ]
  },
  {
   "cell_type": "code",
   "execution_count": 8,
   "metadata": {},
   "outputs": [
    {
     "name": "stdout",
     "output_type": "stream",
     "text": [
      "<bound method NDFrame.head of         TV  radio  newspaper  sales\n",
      "1    230.1   37.8       69.2   22.1\n",
      "2     44.5   39.3       45.1   10.4\n",
      "3     17.2   45.9       69.3    9.3\n",
      "4    151.5   41.3       58.5   18.5\n",
      "5    180.8   10.8       58.4   12.9\n",
      "..     ...    ...        ...    ...\n",
      "196   38.2    3.7       13.8    7.6\n",
      "197   94.2    4.9        8.1    9.7\n",
      "198  177.0    9.3        6.4   12.8\n",
      "199  283.6   42.0       66.2   25.5\n",
      "200  232.1    8.6        8.7   13.4\n",
      "\n",
      "[200 rows x 4 columns]>\n"
     ]
    }
   ],
   "source": [
    "import pandas as pd\n",
    "data = pd.read_csv('广告数据集.CSV')\n",
    "print(data.head)"
   ]
  }
 ],
 "metadata": {
  "kernelspec": {
   "display_name": "Python 3",
   "language": "python",
   "name": "python3"
  },
  "language_info": {
   "codemirror_mode": {
    "name": "ipython",
    "version": 3
   },
   "file_extension": ".py",
   "mimetype": "text/x-python",
   "name": "python",
   "nbconvert_exporter": "python",
   "pygments_lexer": "ipython3",
   "version": "3.11.3"
  },
  "orig_nbformat": 4
 },
 "nbformat": 4,
 "nbformat_minor": 2
}
