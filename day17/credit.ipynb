{
 "cells": [
  {
   "cell_type": "code",
   "execution_count": 1,
   "id": "ba975550",
   "metadata": {},
   "outputs": [
    {
     "data": {
      "text/html": [
       "<div>\n",
       "<style scoped>\n",
       "    .dataframe tbody tr th:only-of-type {\n",
       "        vertical-align: middle;\n",
       "    }\n",
       "\n",
       "    .dataframe tbody tr th {\n",
       "        vertical-align: top;\n",
       "    }\n",
       "\n",
       "    .dataframe thead th {\n",
       "        text-align: right;\n",
       "    }\n",
       "</style>\n",
       "<table border=\"1\" class=\"dataframe\">\n",
       "  <thead>\n",
       "    <tr style=\"text-align: right;\">\n",
       "      <th></th>\n",
       "      <th>SeriousDlqin2yrs</th>\n",
       "      <th>RevolvingUtilizationOfUnsecuredLines</th>\n",
       "      <th>age</th>\n",
       "      <th>NumberOfTime30-59DaysPastDueNotWorse</th>\n",
       "      <th>DebtRatio</th>\n",
       "      <th>MonthlyIncome</th>\n",
       "      <th>NumberOfOpenCreditLinesAndLoans</th>\n",
       "      <th>NumberOfTimes90DaysLate</th>\n",
       "      <th>NumberRealEstateLoansOrLines</th>\n",
       "      <th>NumberOfTime60-89DaysPastDueNotWorse</th>\n",
       "      <th>NumberOfDependents</th>\n",
       "    </tr>\n",
       "  </thead>\n",
       "  <tbody>\n",
       "    <tr>\n",
       "      <th>0</th>\n",
       "      <td>1</td>\n",
       "      <td>0.766127</td>\n",
       "      <td>45</td>\n",
       "      <td>2</td>\n",
       "      <td>0.802982</td>\n",
       "      <td>9120.0</td>\n",
       "      <td>13</td>\n",
       "      <td>0</td>\n",
       "      <td>6</td>\n",
       "      <td>0</td>\n",
       "      <td>2.0</td>\n",
       "    </tr>\n",
       "    <tr>\n",
       "      <th>1</th>\n",
       "      <td>0</td>\n",
       "      <td>0.957151</td>\n",
       "      <td>40</td>\n",
       "      <td>98</td>\n",
       "      <td>0.121876</td>\n",
       "      <td>2600.0</td>\n",
       "      <td>4</td>\n",
       "      <td>0</td>\n",
       "      <td>0</td>\n",
       "      <td>0</td>\n",
       "      <td>1.0</td>\n",
       "    </tr>\n",
       "    <tr>\n",
       "      <th>2</th>\n",
       "      <td>0</td>\n",
       "      <td>0.658180</td>\n",
       "      <td>38</td>\n",
       "      <td>96</td>\n",
       "      <td>0.085113</td>\n",
       "      <td>3042.0</td>\n",
       "      <td>2</td>\n",
       "      <td>1</td>\n",
       "      <td>0</td>\n",
       "      <td>0</td>\n",
       "      <td>0.0</td>\n",
       "    </tr>\n",
       "    <tr>\n",
       "      <th>3</th>\n",
       "      <td>0</td>\n",
       "      <td>0.233810</td>\n",
       "      <td>30</td>\n",
       "      <td>0</td>\n",
       "      <td>0.036050</td>\n",
       "      <td>3300.0</td>\n",
       "      <td>5</td>\n",
       "      <td>0</td>\n",
       "      <td>0</td>\n",
       "      <td>0</td>\n",
       "      <td>0.0</td>\n",
       "    </tr>\n",
       "    <tr>\n",
       "      <th>4</th>\n",
       "      <td>0</td>\n",
       "      <td>0.907239</td>\n",
       "      <td>49</td>\n",
       "      <td>1</td>\n",
       "      <td>0.024926</td>\n",
       "      <td>63588.0</td>\n",
       "      <td>7</td>\n",
       "      <td>0</td>\n",
       "      <td>1</td>\n",
       "      <td>0</td>\n",
       "      <td>0.0</td>\n",
       "    </tr>\n",
       "  </tbody>\n",
       "</table>\n",
       "</div>"
      ],
      "text/plain": [
       "   SeriousDlqin2yrs  RevolvingUtilizationOfUnsecuredLines  age   \n",
       "0                 1                              0.766127   45  \\\n",
       "1                 0                              0.957151   40   \n",
       "2                 0                              0.658180   38   \n",
       "3                 0                              0.233810   30   \n",
       "4                 0                              0.907239   49   \n",
       "\n",
       "   NumberOfTime30-59DaysPastDueNotWorse  DebtRatio  MonthlyIncome   \n",
       "0                                     2   0.802982         9120.0  \\\n",
       "1                                    98   0.121876         2600.0   \n",
       "2                                    96   0.085113         3042.0   \n",
       "3                                     0   0.036050         3300.0   \n",
       "4                                     1   0.024926        63588.0   \n",
       "\n",
       "   NumberOfOpenCreditLinesAndLoans  NumberOfTimes90DaysLate   \n",
       "0                               13                        0  \\\n",
       "1                                4                        0   \n",
       "2                                2                        1   \n",
       "3                                5                        0   \n",
       "4                                7                        0   \n",
       "\n",
       "   NumberRealEstateLoansOrLines  NumberOfTime60-89DaysPastDueNotWorse   \n",
       "0                             6                                     0  \\\n",
       "1                             0                                     0   \n",
       "2                             0                                     0   \n",
       "3                             0                                     0   \n",
       "4                             1                                     0   \n",
       "\n",
       "   NumberOfDependents  \n",
       "0                 2.0  \n",
       "1                 1.0  \n",
       "2                 0.0  \n",
       "3                 0.0  \n",
       "4                 0.0  "
      ]
     },
     "execution_count": 1,
     "metadata": {},
     "output_type": "execute_result"
    }
   ],
   "source": [
    "# 读取数据\n",
    "import numpy as np\n",
    "import pandas as pd\n",
    "data = pd.read_csv('cs-training.csv')\n",
    "data = data.iloc[:,1:]\n",
    "data.head()"
   ]
  },
  {
   "cell_type": "code",
   "execution_count": 2,
   "id": "660b8e1c",
   "metadata": {},
   "outputs": [
    {
     "data": {
      "text/plain": [
       "(1000, 11)"
      ]
     },
     "execution_count": 2,
     "metadata": {},
     "output_type": "execute_result"
    }
   ],
   "source": [
    "# 数据大小\n",
    "data.shape"
   ]
  },
  {
   "cell_type": "code",
   "execution_count": 3,
   "id": "d1d25549",
   "metadata": {},
   "outputs": [
    {
     "data": {
      "text/html": [
       "<div>\n",
       "<style scoped>\n",
       "    .dataframe tbody tr th:only-of-type {\n",
       "        vertical-align: middle;\n",
       "    }\n",
       "\n",
       "    .dataframe tbody tr th {\n",
       "        vertical-align: top;\n",
       "    }\n",
       "\n",
       "    .dataframe thead th {\n",
       "        text-align: right;\n",
       "    }\n",
       "</style>\n",
       "<table border=\"1\" class=\"dataframe\">\n",
       "  <thead>\n",
       "    <tr style=\"text-align: right;\">\n",
       "      <th></th>\n",
       "      <th>SeriousDlqin2yrs</th>\n",
       "      <th>RevolvingUtilizationOfUnsecuredLines</th>\n",
       "      <th>age</th>\n",
       "      <th>NumberOfTime30-59DaysPastDueNotWorse</th>\n",
       "      <th>DebtRatio</th>\n",
       "      <th>MonthlyIncome</th>\n",
       "      <th>NumberOfOpenCreditLinesAndLoans</th>\n",
       "      <th>NumberOfTimes90DaysLate</th>\n",
       "      <th>NumberRealEstateLoansOrLines</th>\n",
       "      <th>NumberOfTime60-89DaysPastDueNotWorse</th>\n",
       "      <th>NumberOfDependents</th>\n",
       "    </tr>\n",
       "  </thead>\n",
       "  <tbody>\n",
       "    <tr>\n",
       "      <th>count</th>\n",
       "      <td>1000.000000</td>\n",
       "      <td>1000.000000</td>\n",
       "      <td>1000.000000</td>\n",
       "      <td>1000.00000</td>\n",
       "      <td>1000.000000</td>\n",
       "      <td>819.000000</td>\n",
       "      <td>1000.00000</td>\n",
       "      <td>1000.000000</td>\n",
       "      <td>1000.000000</td>\n",
       "      <td>1000.000000</td>\n",
       "      <td>967.000000</td>\n",
       "    </tr>\n",
       "    <tr>\n",
       "      <th>mean</th>\n",
       "      <td>0.057000</td>\n",
       "      <td>4.717846</td>\n",
       "      <td>51.793000</td>\n",
       "      <td>0.45900</td>\n",
       "      <td>353.772448</td>\n",
       "      <td>6617.976801</td>\n",
       "      <td>8.52300</td>\n",
       "      <td>0.275000</td>\n",
       "      <td>0.974000</td>\n",
       "      <td>0.250000</td>\n",
       "      <td>0.722854</td>\n",
       "    </tr>\n",
       "    <tr>\n",
       "      <th>std</th>\n",
       "      <td>0.231959</td>\n",
       "      <td>98.649119</td>\n",
       "      <td>15.174466</td>\n",
       "      <td>4.39245</td>\n",
       "      <td>1167.736841</td>\n",
       "      <td>8818.220170</td>\n",
       "      <td>5.16877</td>\n",
       "      <td>4.348366</td>\n",
       "      <td>1.019001</td>\n",
       "      <td>4.343543</td>\n",
       "      <td>1.069880</td>\n",
       "    </tr>\n",
       "    <tr>\n",
       "      <th>min</th>\n",
       "      <td>0.000000</td>\n",
       "      <td>0.000000</td>\n",
       "      <td>22.000000</td>\n",
       "      <td>0.00000</td>\n",
       "      <td>0.000000</td>\n",
       "      <td>0.000000</td>\n",
       "      <td>0.00000</td>\n",
       "      <td>0.000000</td>\n",
       "      <td>0.000000</td>\n",
       "      <td>0.000000</td>\n",
       "      <td>0.000000</td>\n",
       "    </tr>\n",
       "    <tr>\n",
       "      <th>25%</th>\n",
       "      <td>0.000000</td>\n",
       "      <td>0.032362</td>\n",
       "      <td>40.000000</td>\n",
       "      <td>0.00000</td>\n",
       "      <td>0.167349</td>\n",
       "      <td>3300.000000</td>\n",
       "      <td>5.00000</td>\n",
       "      <td>0.000000</td>\n",
       "      <td>0.000000</td>\n",
       "      <td>0.000000</td>\n",
       "      <td>0.000000</td>\n",
       "    </tr>\n",
       "    <tr>\n",
       "      <th>50%</th>\n",
       "      <td>0.000000</td>\n",
       "      <td>0.159672</td>\n",
       "      <td>52.000000</td>\n",
       "      <td>0.00000</td>\n",
       "      <td>0.360422</td>\n",
       "      <td>5217.000000</td>\n",
       "      <td>8.00000</td>\n",
       "      <td>0.000000</td>\n",
       "      <td>1.000000</td>\n",
       "      <td>0.000000</td>\n",
       "      <td>0.000000</td>\n",
       "    </tr>\n",
       "    <tr>\n",
       "      <th>75%</th>\n",
       "      <td>0.000000</td>\n",
       "      <td>0.533372</td>\n",
       "      <td>62.250000</td>\n",
       "      <td>0.00000</td>\n",
       "      <td>0.750515</td>\n",
       "      <td>8332.500000</td>\n",
       "      <td>11.00000</td>\n",
       "      <td>0.000000</td>\n",
       "      <td>2.000000</td>\n",
       "      <td>0.000000</td>\n",
       "      <td>1.000000</td>\n",
       "    </tr>\n",
       "    <tr>\n",
       "      <th>max</th>\n",
       "      <td>1.000000</td>\n",
       "      <td>2340.000000</td>\n",
       "      <td>97.000000</td>\n",
       "      <td>98.00000</td>\n",
       "      <td>15466.000000</td>\n",
       "      <td>208333.000000</td>\n",
       "      <td>31.00000</td>\n",
       "      <td>98.000000</td>\n",
       "      <td>8.000000</td>\n",
       "      <td>98.000000</td>\n",
       "      <td>6.000000</td>\n",
       "    </tr>\n",
       "  </tbody>\n",
       "</table>\n",
       "</div>"
      ],
      "text/plain": [
       "       SeriousDlqin2yrs  RevolvingUtilizationOfUnsecuredLines          age   \n",
       "count       1000.000000                           1000.000000  1000.000000  \\\n",
       "mean           0.057000                              4.717846    51.793000   \n",
       "std            0.231959                             98.649119    15.174466   \n",
       "min            0.000000                              0.000000    22.000000   \n",
       "25%            0.000000                              0.032362    40.000000   \n",
       "50%            0.000000                              0.159672    52.000000   \n",
       "75%            0.000000                              0.533372    62.250000   \n",
       "max            1.000000                           2340.000000    97.000000   \n",
       "\n",
       "       NumberOfTime30-59DaysPastDueNotWorse     DebtRatio  MonthlyIncome   \n",
       "count                            1000.00000   1000.000000     819.000000  \\\n",
       "mean                                0.45900    353.772448    6617.976801   \n",
       "std                                 4.39245   1167.736841    8818.220170   \n",
       "min                                 0.00000      0.000000       0.000000   \n",
       "25%                                 0.00000      0.167349    3300.000000   \n",
       "50%                                 0.00000      0.360422    5217.000000   \n",
       "75%                                 0.00000      0.750515    8332.500000   \n",
       "max                                98.00000  15466.000000  208333.000000   \n",
       "\n",
       "       NumberOfOpenCreditLinesAndLoans  NumberOfTimes90DaysLate   \n",
       "count                       1000.00000              1000.000000  \\\n",
       "mean                           8.52300                 0.275000   \n",
       "std                            5.16877                 4.348366   \n",
       "min                            0.00000                 0.000000   \n",
       "25%                            5.00000                 0.000000   \n",
       "50%                            8.00000                 0.000000   \n",
       "75%                           11.00000                 0.000000   \n",
       "max                           31.00000                98.000000   \n",
       "\n",
       "       NumberRealEstateLoansOrLines  NumberOfTime60-89DaysPastDueNotWorse   \n",
       "count                   1000.000000                           1000.000000  \\\n",
       "mean                       0.974000                              0.250000   \n",
       "std                        1.019001                              4.343543   \n",
       "min                        0.000000                              0.000000   \n",
       "25%                        0.000000                              0.000000   \n",
       "50%                        1.000000                              0.000000   \n",
       "75%                        2.000000                              0.000000   \n",
       "max                        8.000000                             98.000000   \n",
       "\n",
       "       NumberOfDependents  \n",
       "count          967.000000  \n",
       "mean             0.722854  \n",
       "std              1.069880  \n",
       "min              0.000000  \n",
       "25%              0.000000  \n",
       "50%              0.000000  \n",
       "75%              1.000000  \n",
       "max              6.000000  "
      ]
     },
     "execution_count": 3,
     "metadata": {},
     "output_type": "execute_result"
    }
   ],
   "source": [
    "# 数据整体预览\n",
    "data.describe()"
   ]
  },
  {
   "cell_type": "code",
   "execution_count": 4,
   "id": "66af69fa",
   "metadata": {},
   "outputs": [
    {
     "name": "stdout",
     "output_type": "stream",
     "text": [
      "<class 'pandas.core.frame.DataFrame'>\n",
      "RangeIndex: 1000 entries, 0 to 999\n",
      "Data columns (total 11 columns):\n",
      " #   Column                                Non-Null Count  Dtype  \n",
      "---  ------                                --------------  -----  \n",
      " 0   SeriousDlqin2yrs                      1000 non-null   int64  \n",
      " 1   RevolvingUtilizationOfUnsecuredLines  1000 non-null   float64\n",
      " 2   age                                   1000 non-null   int64  \n",
      " 3   NumberOfTime30-59DaysPastDueNotWorse  1000 non-null   int64  \n",
      " 4   DebtRatio                             1000 non-null   float64\n",
      " 5   MonthlyIncome                         819 non-null    float64\n",
      " 6   NumberOfOpenCreditLinesAndLoans       1000 non-null   int64  \n",
      " 7   NumberOfTimes90DaysLate               1000 non-null   int64  \n",
      " 8   NumberRealEstateLoansOrLines          1000 non-null   int64  \n",
      " 9   NumberOfTime60-89DaysPastDueNotWorse  1000 non-null   int64  \n",
      " 10  NumberOfDependents                    967 non-null    float64\n",
      "dtypes: float64(4), int64(7)\n",
      "memory usage: 86.1 KB\n"
     ]
    }
   ],
   "source": [
    "# 数据信息查看\n",
    "data.info()"
   ]
  },
  {
   "cell_type": "code",
   "execution_count": 5,
   "id": "2001fb24",
   "metadata": {},
   "outputs": [
    {
     "data": {
      "text/plain": [
       "(1000, 11)"
      ]
     },
     "execution_count": 5,
     "metadata": {},
     "output_type": "execute_result"
    }
   ],
   "source": [
    "# 删除完全重复的记录\n",
    "data.drop_duplicates(inplace=True)\n",
    "data.shape"
   ]
  },
  {
   "attachments": {},
   "cell_type": "markdown",
   "id": "7261af11",
   "metadata": {},
   "source": [
    "# 数据预处理\n",
    "## 缺失值处理"
   ]
  },
  {
   "cell_type": "code",
   "execution_count": 7,
   "id": "96f09b54",
   "metadata": {},
   "outputs": [
    {
     "data": {
      "text/plain": [
       "<Axes: >"
      ]
     },
     "execution_count": 7,
     "metadata": {},
     "output_type": "execute_result"
    },
    {
     "data": {
      "image/png": "[encoded data removed]",
      "text/plain": [
       "<Figure size 2500x1000 with 2 Axes>"
      ]
     },
     "metadata": {},
     "output_type": "display_data"
    }
   ],
   "source": [
    "import missingno as msno\n",
    "msno.matrix(data)"
   ]
  },
  {
   "cell_type": "code",
   "execution_count": 8,
   "id": "cba1c71f",
   "metadata": {},
   "outputs": [],
   "source": [
    "from sklearn.ensemble import RandomForestRegressor\n",
    "\n",
    "def fill_missing(data, to_fill):\n",
    "    df = data.copy()\n",
    "    columns = [*df.columns]\n",
    "    columns.remove(to_fill)\n",
    "    \n",
    "    # 移除有缺失值的列\n",
    "    columns.remove('NumberOfDependents')\n",
    "    X = df.loc[:, columns]\n",
    "    y = df.loc[:, to_fill]\n",
    "    X_train = X.loc[df[to_fill].notnull()]\n",
    "    y_train = y.loc[df[to_fill].notnull()]\n",
    "    X_pred = X.loc[df[to_fill].isnull()]\n",
    "    rfr = RandomForestRegressor(random_state=22, n_estimators=200, max_depth=3, n_jobs=-1)\n",
    "    rfr.fit(X_train, y_train)\n",
    "    y_pred = rfr.predict(X_pred).round()\n",
    "    df.loc[df[to_fill].isnull(), to_fill] = y_pred\n",
    "    return df"
   ]
  },
  {
   "attachments": {},
   "cell_type": "markdown",
   "id": "f3a2702a",
   "metadata": {},
   "source": [
    "'NumberOfDependents'缺失值较少，可以考虑直接删除"
   ]
  },
  {
   "cell_type": "code",
   "execution_count": 9,
   "id": "c5b83752",
   "metadata": {},
   "outputs": [
    {
     "data": {
      "text/plain": [
       "(967, 11)"
      ]
     },
     "execution_count": 9,
     "metadata": {},
     "output_type": "execute_result"
    }
   ],
   "source": [
    "data = fill_missing(data, 'MonthlyIncome')\n",
    "data.dropna(inplace=True)\n",
    "data.shape"
   ]
  },
  {
   "attachments": {},
   "cell_type": "markdown",
   "id": "fb5de8b9",
   "metadata": {},
   "source": [
    "## 异常值处理"
   ]
  },
  {
   "cell_type": "code",
   "execution_count": 10,
   "id": "fd7b522f",
   "metadata": {
    "scrolled": true
   },
   "outputs": [
    {
     "data": {
      "text/plain": [
       "<Axes: >"
      ]
     },
     "execution_count": 10,
     "metadata": {},
     "output_type": "execute_result"
    },
    {
     "data": {
      "image/png": "[encoded data removed]",
      "text/plain": [
       "<Figure size 640x480 with 1 Axes>"
      ]
     },
     "metadata": {},
     "output_type": "display_data"
    }
   ],
   "source": [
    "import matplotlib.pyplot as plt\n",
    "columns = ['NumberOfTime30-59DaysPastDueNotWorse',\n",
    "          'NumberOfTime60-89DaysPastDueNotWorse',\n",
    "          'NumberOfTimes90DaysLate']\n",
    "data.loc[:, columns].plot.box(vert=False)"
   ]
  },
  {
   "attachments": {},
   "cell_type": "markdown",
   "id": "0b7c3de6",
   "metadata": {},
   "source": [
    "从业务上考虑，不应当出现这样的高的次数，这里同样删除掉这些异常数据"
   ]
  },
  {
   "cell_type": "code",
   "execution_count": 12,
   "id": "6ff8abe8",
   "metadata": {},
   "outputs": [],
   "source": [
    "for col in columns:\n",
    "    data = data.loc[data[col] < 90]"
   ]
  },
  {
   "attachments": {},
   "cell_type": "markdown",
   "id": "58ad5514",
   "metadata": {},
   "source": [
    "观察是否超过90天还款的SeriousDlqin2yrs客户的整体情况，数据集中好客户（不超过还款期）为0，违约客户（超过还款期）为1。统计图如下"
   ]
  },
  {
   "cell_type": "code",
   "execution_count": 13,
   "id": "d1bc8f41",
   "metadata": {},
   "outputs": [],
   "source": [
    "import matplotlib.pyplot as plt\n",
    "import seaborn as sns"
   ]
  },
  {
   "cell_type": "code",
   "execution_count": 14,
   "id": "b95777c0",
   "metadata": {},
   "outputs": [
    {
     "data": {
      "text/plain": [
       "<Axes: xlabel='SeriousDlqin2yrs_cat', ylabel='count'>"
      ]
     },
     "execution_count": 14,
     "metadata": {},
     "output_type": "execute_result"
    },
    {
     "data": {
      "image/png": "[encoded data removed]",
      "text/plain": [
       "<Figure size 640x480 with 1 Axes>"
      ]
     },
     "metadata": {},
     "output_type": "display_data"
    }
   ],
   "source": [
    "data['SeriousDlqin2yrs_cat'] = data['SeriousDlqin2yrs'].\\\n",
    "map({1:\"1\",0:\"0\"})\n",
    "sns.countplot(x='SeriousDlqin2yrs_cat', data=data)#修改下X轴统计数据列"
   ]
  },
  {
   "attachments": {},
   "cell_type": "markdown",
   "id": "2b73e0b7",
   "metadata": {},
   "source": [
    "年龄与违约客户数的变化关系图"
   ]
  },
  {
   "cell_type": "code",
   "execution_count": 15,
   "id": "54f4ae95",
   "metadata": {},
   "outputs": [
    {
     "ename": "AttributeError",
     "evalue": "module 'seaborn' has no attribute 'dist'",
     "output_type": "error",
     "traceback": [
      "\u001b[0;31m---------------------------------------------------------------------------\u001b[0m",
      "\u001b[0;31mAttributeError\u001b[0m                            Traceback (most recent call last)",
      "Cell \u001b[0;32mIn[15], line 1\u001b[0m\n\u001b[0;32m----> 1\u001b[0m g\u001b[39m=\u001b[39msns\u001b[39m.\u001b[39;49mdist(x\u001b[39m=\u001b[39mdata[\u001b[39m'\u001b[39m\u001b[39mage\u001b[39m\u001b[39m'\u001b[39m],y\u001b[39m=\u001b[39mdata[\u001b[39m'\u001b[39m\u001b[39mSeriousDlqin2yrs\u001b[39m\u001b[39m'\u001b[39m])\n",
      "\u001b[0;31mAttributeError\u001b[0m: module 'seaborn' has no attribute 'dist'"
     ]
    }
   ],
   "source": [
    "g=sns.dist(x=data['age'],y=data['SeriousDlqin2yrs'])"
   ]
  },
  {
   "cell_type": "code",
   "execution_count": 21,
   "id": "7c6579f2",
   "metadata": {},
   "outputs": [
    {
     "data": {
      "text/html": [
       "<div>\n",
       "<style scoped>\n",
       "    .dataframe tbody tr th:only-of-type {\n",
       "        vertical-align: middle;\n",
       "    }\n",
       "\n",
       "    .dataframe tbody tr th {\n",
       "        vertical-align: top;\n",
       "    }\n",
       "\n",
       "    .dataframe thead th {\n",
       "        text-align: right;\n",
       "    }\n",
       "</style>\n",
       "<table border=\"1\" class=\"dataframe\">\n",
       "  <thead>\n",
       "    <tr style=\"text-align: right;\">\n",
       "      <th></th>\n",
       "      <th>SeriousDlqin2yrs</th>\n",
       "      <th>RevolvingUtilizationOfUnsecuredLines</th>\n",
       "      <th>age</th>\n",
       "      <th>NumberOfTime30-59DaysPastDueNotWorse</th>\n",
       "      <th>DebtRatio</th>\n",
       "      <th>MonthlyIncome</th>\n",
       "      <th>NumberOfOpenCreditLinesAndLoans</th>\n",
       "      <th>NumberOfTimes90DaysLate</th>\n",
       "      <th>NumberRealEstateLoansOrLines</th>\n",
       "      <th>NumberOfTime60-89DaysPastDueNotWorse</th>\n",
       "      <th>NumberOfDependents</th>\n",
       "      <th>isDebate</th>\n",
       "    </tr>\n",
       "  </thead>\n",
       "  <tbody>\n",
       "    <tr>\n",
       "      <th>0</th>\n",
       "      <td>1</td>\n",
       "      <td>0.766127</td>\n",
       "      <td>45</td>\n",
       "      <td>2</td>\n",
       "      <td>0.802982</td>\n",
       "      <td>9120.0</td>\n",
       "      <td>13</td>\n",
       "      <td>0</td>\n",
       "      <td>6</td>\n",
       "      <td>0</td>\n",
       "      <td>2.0</td>\n",
       "      <td>1</td>\n",
       "    </tr>\n",
       "    <tr>\n",
       "      <th>3</th>\n",
       "      <td>0</td>\n",
       "      <td>0.233810</td>\n",
       "      <td>30</td>\n",
       "      <td>0</td>\n",
       "      <td>0.036050</td>\n",
       "      <td>3300.0</td>\n",
       "      <td>5</td>\n",
       "      <td>0</td>\n",
       "      <td>0</td>\n",
       "      <td>0</td>\n",
       "      <td>0.0</td>\n",
       "      <td>0</td>\n",
       "    </tr>\n",
       "    <tr>\n",
       "      <th>4</th>\n",
       "      <td>0</td>\n",
       "      <td>0.907239</td>\n",
       "      <td>49</td>\n",
       "      <td>1</td>\n",
       "      <td>0.024926</td>\n",
       "      <td>63588.0</td>\n",
       "      <td>7</td>\n",
       "      <td>0</td>\n",
       "      <td>1</td>\n",
       "      <td>0</td>\n",
       "      <td>0.0</td>\n",
       "      <td>1</td>\n",
       "    </tr>\n",
       "    <tr>\n",
       "      <th>6</th>\n",
       "      <td>0</td>\n",
       "      <td>0.305682</td>\n",
       "      <td>57</td>\n",
       "      <td>0</td>\n",
       "      <td>5710.000000</td>\n",
       "      <td>3829.0</td>\n",
       "      <td>8</td>\n",
       "      <td>0</td>\n",
       "      <td>3</td>\n",
       "      <td>0</td>\n",
       "      <td>0.0</td>\n",
       "      <td>0</td>\n",
       "    </tr>\n",
       "    <tr>\n",
       "      <th>9</th>\n",
       "      <td>0</td>\n",
       "      <td>0.189169</td>\n",
       "      <td>57</td>\n",
       "      <td>0</td>\n",
       "      <td>0.606291</td>\n",
       "      <td>23684.0</td>\n",
       "      <td>9</td>\n",
       "      <td>0</td>\n",
       "      <td>4</td>\n",
       "      <td>0</td>\n",
       "      <td>2.0</td>\n",
       "      <td>0</td>\n",
       "    </tr>\n",
       "  </tbody>\n",
       "</table>\n",
       "</div>"
      ],
      "text/plain": [
       "   SeriousDlqin2yrs  RevolvingUtilizationOfUnsecuredLines  age  \\\n",
       "0                 1                              0.766127   45   \n",
       "3                 0                              0.233810   30   \n",
       "4                 0                              0.907239   49   \n",
       "6                 0                              0.305682   57   \n",
       "9                 0                              0.189169   57   \n",
       "\n",
       "   NumberOfTime30-59DaysPastDueNotWorse    DebtRatio  MonthlyIncome  \\\n",
       "0                                     2     0.802982         9120.0   \n",
       "3                                     0     0.036050         3300.0   \n",
       "4                                     1     0.024926        63588.0   \n",
       "6                                     0  5710.000000         3829.0   \n",
       "9                                     0     0.606291        23684.0   \n",
       "\n",
       "   NumberOfOpenCreditLinesAndLoans  NumberOfTimes90DaysLate  \\\n",
       "0                               13                        0   \n",
       "3                                5                        0   \n",
       "4                                7                        0   \n",
       "6                                8                        0   \n",
       "9                                9                        0   \n",
       "\n",
       "   NumberRealEstateLoansOrLines  NumberOfTime60-89DaysPastDueNotWorse  \\\n",
       "0                             6                                     0   \n",
       "3                             0                                     0   \n",
       "4                             1                                     0   \n",
       "6                             3                                     0   \n",
       "9                             4                                     0   \n",
       "\n",
       "   NumberOfDependents  isDebate  \n",
       "0                 2.0         1  \n",
       "3                 0.0         0  \n",
       "4                 0.0         1  \n",
       "6                 0.0         0  \n",
       "9                 2.0         0  "
      ]
     },
     "execution_count": 21,
     "metadata": {},
     "output_type": "execute_result"
    }
   ],
   "source": [
    "data.head()"
   ]
  },
  {
   "cell_type": "code",
   "execution_count": 8,
   "id": "c1a2687e",
   "metadata": {},
   "outputs": [
    {
     "data": {
      "text/html": [
       "<div>\n",
       "<style scoped>\n",
       "    .dataframe tbody tr th:only-of-type {\n",
       "        vertical-align: middle;\n",
       "    }\n",
       "\n",
       "    .dataframe tbody tr th {\n",
       "        vertical-align: top;\n",
       "    }\n",
       "\n",
       "    .dataframe thead th {\n",
       "        text-align: right;\n",
       "    }\n",
       "</style>\n",
       "<table border=\"1\" class=\"dataframe\">\n",
       "  <thead>\n",
       "    <tr style=\"text-align: right;\">\n",
       "      <th></th>\n",
       "      <th>SeriousDlqin2yrs</th>\n",
       "      <th>RevolvingUtilizationOfUnsecuredLines</th>\n",
       "      <th>age</th>\n",
       "      <th>NumberOfTime30-59DaysPastDueNotWorse</th>\n",
       "      <th>DebtRatio</th>\n",
       "      <th>MonthlyIncome</th>\n",
       "      <th>NumberOfOpenCreditLinesAndLoans</th>\n",
       "      <th>NumberOfTimes90DaysLate</th>\n",
       "      <th>NumberRealEstateLoansOrLines</th>\n",
       "      <th>NumberOfTime60-89DaysPastDueNotWorse</th>\n",
       "      <th>NumberOfDependents</th>\n",
       "    </tr>\n",
       "  </thead>\n",
       "  <tbody>\n",
       "    <tr>\n",
       "      <th>SeriousDlqin2yrs</th>\n",
       "      <td>1.000000</td>\n",
       "      <td>0.080761</td>\n",
       "      <td>-0.069699</td>\n",
       "      <td>0.243402</td>\n",
       "      <td>0.014746</td>\n",
       "      <td>-0.012037</td>\n",
       "      <td>0.071724</td>\n",
       "      <td>0.189531</td>\n",
       "      <td>0.071996</td>\n",
       "      <td>0.264463</td>\n",
       "      <td>0.068145</td>\n",
       "    </tr>\n",
       "    <tr>\n",
       "      <th>RevolvingUtilizationOfUnsecuredLines</th>\n",
       "      <td>0.080761</td>\n",
       "      <td>1.000000</td>\n",
       "      <td>-0.002245</td>\n",
       "      <td>-0.014816</td>\n",
       "      <td>-0.013090</td>\n",
       "      <td>0.006746</td>\n",
       "      <td>-0.010990</td>\n",
       "      <td>0.049500</td>\n",
       "      <td>0.023895</td>\n",
       "      <td>-0.007967</td>\n",
       "      <td>0.034545</td>\n",
       "    </tr>\n",
       "    <tr>\n",
       "      <th>age</th>\n",
       "      <td>-0.069699</td>\n",
       "      <td>-0.002245</td>\n",
       "      <td>1.000000</td>\n",
       "      <td>-0.047989</td>\n",
       "      <td>0.042565</td>\n",
       "      <td>0.002684</td>\n",
       "      <td>0.130023</td>\n",
       "      <td>-0.063381</td>\n",
       "      <td>-0.012109</td>\n",
       "      <td>-0.021181</td>\n",
       "      <td>-0.187990</td>\n",
       "    </tr>\n",
       "    <tr>\n",
       "      <th>NumberOfTime30-59DaysPastDueNotWorse</th>\n",
       "      <td>0.243402</td>\n",
       "      <td>-0.014816</td>\n",
       "      <td>-0.047989</td>\n",
       "      <td>1.000000</td>\n",
       "      <td>-0.012097</td>\n",
       "      <td>0.059579</td>\n",
       "      <td>0.112600</td>\n",
       "      <td>0.234960</td>\n",
       "      <td>0.115424</td>\n",
       "      <td>0.459096</td>\n",
       "      <td>0.074116</td>\n",
       "    </tr>\n",
       "    <tr>\n",
       "      <th>DebtRatio</th>\n",
       "      <td>0.014746</td>\n",
       "      <td>-0.013090</td>\n",
       "      <td>0.042565</td>\n",
       "      <td>-0.012097</td>\n",
       "      <td>1.000000</td>\n",
       "      <td>-0.130224</td>\n",
       "      <td>0.045398</td>\n",
       "      <td>-0.037096</td>\n",
       "      <td>0.155563</td>\n",
       "      <td>0.035563</td>\n",
       "      <td>-0.092057</td>\n",
       "    </tr>\n",
       "    <tr>\n",
       "      <th>MonthlyIncome</th>\n",
       "      <td>-0.012037</td>\n",
       "      <td>0.006746</td>\n",
       "      <td>0.002684</td>\n",
       "      <td>0.059579</td>\n",
       "      <td>-0.130224</td>\n",
       "      <td>1.000000</td>\n",
       "      <td>0.143548</td>\n",
       "      <td>-0.021504</td>\n",
       "      <td>0.163128</td>\n",
       "      <td>-0.027925</td>\n",
       "      <td>0.137240</td>\n",
       "    </tr>\n",
       "    <tr>\n",
       "      <th>NumberOfOpenCreditLinesAndLoans</th>\n",
       "      <td>0.071724</td>\n",
       "      <td>-0.010990</td>\n",
       "      <td>0.130023</td>\n",
       "      <td>0.112600</td>\n",
       "      <td>0.045398</td>\n",
       "      <td>0.143548</td>\n",
       "      <td>1.000000</td>\n",
       "      <td>-0.079855</td>\n",
       "      <td>0.413926</td>\n",
       "      <td>-0.001983</td>\n",
       "      <td>0.119197</td>\n",
       "    </tr>\n",
       "    <tr>\n",
       "      <th>NumberOfTimes90DaysLate</th>\n",
       "      <td>0.189531</td>\n",
       "      <td>0.049500</td>\n",
       "      <td>-0.063381</td>\n",
       "      <td>0.234960</td>\n",
       "      <td>-0.037096</td>\n",
       "      <td>-0.021504</td>\n",
       "      <td>-0.079855</td>\n",
       "      <td>1.000000</td>\n",
       "      <td>-0.059537</td>\n",
       "      <td>0.406874</td>\n",
       "      <td>-0.010755</td>\n",
       "    </tr>\n",
       "    <tr>\n",
       "      <th>NumberRealEstateLoansOrLines</th>\n",
       "      <td>0.071996</td>\n",
       "      <td>0.023895</td>\n",
       "      <td>-0.012109</td>\n",
       "      <td>0.115424</td>\n",
       "      <td>0.155563</td>\n",
       "      <td>0.163128</td>\n",
       "      <td>0.413926</td>\n",
       "      <td>-0.059537</td>\n",
       "      <td>1.000000</td>\n",
       "      <td>0.029077</td>\n",
       "      <td>0.111911</td>\n",
       "    </tr>\n",
       "    <tr>\n",
       "      <th>NumberOfTime60-89DaysPastDueNotWorse</th>\n",
       "      <td>0.264463</td>\n",
       "      <td>-0.007967</td>\n",
       "      <td>-0.021181</td>\n",
       "      <td>0.459096</td>\n",
       "      <td>0.035563</td>\n",
       "      <td>-0.027925</td>\n",
       "      <td>-0.001983</td>\n",
       "      <td>0.406874</td>\n",
       "      <td>0.029077</td>\n",
       "      <td>1.000000</td>\n",
       "      <td>0.020031</td>\n",
       "    </tr>\n",
       "    <tr>\n",
       "      <th>NumberOfDependents</th>\n",
       "      <td>0.068145</td>\n",
       "      <td>0.034545</td>\n",
       "      <td>-0.187990</td>\n",
       "      <td>0.074116</td>\n",
       "      <td>-0.092057</td>\n",
       "      <td>0.137240</td>\n",
       "      <td>0.119197</td>\n",
       "      <td>-0.010755</td>\n",
       "      <td>0.111911</td>\n",
       "      <td>0.020031</td>\n",
       "      <td>1.000000</td>\n",
       "    </tr>\n",
       "  </tbody>\n",
       "</table>\n",
       "</div>"
      ],
      "text/plain": [
       "                                      SeriousDlqin2yrs  \\\n",
       "SeriousDlqin2yrs                              1.000000   \n",
       "RevolvingUtilizationOfUnsecuredLines          0.080761   \n",
       "age                                          -0.069699   \n",
       "NumberOfTime30-59DaysPastDueNotWorse          0.243402   \n",
       "DebtRatio                                     0.014746   \n",
       "MonthlyIncome                                -0.012037   \n",
       "NumberOfOpenCreditLinesAndLoans               0.071724   \n",
       "NumberOfTimes90DaysLate                       0.189531   \n",
       "NumberRealEstateLoansOrLines                  0.071996   \n",
       "NumberOfTime60-89DaysPastDueNotWorse          0.264463   \n",
       "NumberOfDependents                            0.068145   \n",
       "\n",
       "                                      RevolvingUtilizationOfUnsecuredLines  \\\n",
       "SeriousDlqin2yrs                                                  0.080761   \n",
       "RevolvingUtilizationOfUnsecuredLines                              1.000000   \n",
       "age                                                              -0.002245   \n",
       "NumberOfTime30-59DaysPastDueNotWorse                             -0.014816   \n",
       "DebtRatio                                                        -0.013090   \n",
       "MonthlyIncome                                                     0.006746   \n",
       "NumberOfOpenCreditLinesAndLoans                                  -0.010990   \n",
       "NumberOfTimes90DaysLate                                           0.049500   \n",
       "NumberRealEstateLoansOrLines                                      0.023895   \n",
       "NumberOfTime60-89DaysPastDueNotWorse                             -0.007967   \n",
       "NumberOfDependents                                                0.034545   \n",
       "\n",
       "                                           age  \\\n",
       "SeriousDlqin2yrs                     -0.069699   \n",
       "RevolvingUtilizationOfUnsecuredLines -0.002245   \n",
       "age                                   1.000000   \n",
       "NumberOfTime30-59DaysPastDueNotWorse -0.047989   \n",
       "DebtRatio                             0.042565   \n",
       "MonthlyIncome                         0.002684   \n",
       "NumberOfOpenCreditLinesAndLoans       0.130023   \n",
       "NumberOfTimes90DaysLate              -0.063381   \n",
       "NumberRealEstateLoansOrLines         -0.012109   \n",
       "NumberOfTime60-89DaysPastDueNotWorse -0.021181   \n",
       "NumberOfDependents                   -0.187990   \n",
       "\n",
       "                                      NumberOfTime30-59DaysPastDueNotWorse  \\\n",
       "SeriousDlqin2yrs                                                  0.243402   \n",
       "RevolvingUtilizationOfUnsecuredLines                             -0.014816   \n",
       "age                                                              -0.047989   \n",
       "NumberOfTime30-59DaysPastDueNotWorse                              1.000000   \n",
       "DebtRatio                                                        -0.012097   \n",
       "MonthlyIncome                                                     0.059579   \n",
       "NumberOfOpenCreditLinesAndLoans                                   0.112600   \n",
       "NumberOfTimes90DaysLate                                           0.234960   \n",
       "NumberRealEstateLoansOrLines                                      0.115424   \n",
       "NumberOfTime60-89DaysPastDueNotWorse                              0.459096   \n",
       "NumberOfDependents                                                0.074116   \n",
       "\n",
       "                                      DebtRatio  MonthlyIncome  \\\n",
       "SeriousDlqin2yrs                       0.014746      -0.012037   \n",
       "RevolvingUtilizationOfUnsecuredLines  -0.013090       0.006746   \n",
       "age                                    0.042565       0.002684   \n",
       "NumberOfTime30-59DaysPastDueNotWorse  -0.012097       0.059579   \n",
       "DebtRatio                              1.000000      -0.130224   \n",
       "MonthlyIncome                         -0.130224       1.000000   \n",
       "NumberOfOpenCreditLinesAndLoans        0.045398       0.143548   \n",
       "NumberOfTimes90DaysLate               -0.037096      -0.021504   \n",
       "NumberRealEstateLoansOrLines           0.155563       0.163128   \n",
       "NumberOfTime60-89DaysPastDueNotWorse   0.035563      -0.027925   \n",
       "NumberOfDependents                    -0.092057       0.137240   \n",
       "\n",
       "                                      NumberOfOpenCreditLinesAndLoans  \\\n",
       "SeriousDlqin2yrs                                             0.071724   \n",
       "RevolvingUtilizationOfUnsecuredLines                        -0.010990   \n",
       "age                                                          0.130023   \n",
       "NumberOfTime30-59DaysPastDueNotWorse                         0.112600   \n",
       "DebtRatio                                                    0.045398   \n",
       "MonthlyIncome                                                0.143548   \n",
       "NumberOfOpenCreditLinesAndLoans                              1.000000   \n",
       "NumberOfTimes90DaysLate                                     -0.079855   \n",
       "NumberRealEstateLoansOrLines                                 0.413926   \n",
       "NumberOfTime60-89DaysPastDueNotWorse                        -0.001983   \n",
       "NumberOfDependents                                           0.119197   \n",
       "\n",
       "                                      NumberOfTimes90DaysLate  \\\n",
       "SeriousDlqin2yrs                                     0.189531   \n",
       "RevolvingUtilizationOfUnsecuredLines                 0.049500   \n",
       "age                                                 -0.063381   \n",
       "NumberOfTime30-59DaysPastDueNotWorse                 0.234960   \n",
       "DebtRatio                                           -0.037096   \n",
       "MonthlyIncome                                       -0.021504   \n",
       "NumberOfOpenCreditLinesAndLoans                     -0.079855   \n",
       "NumberOfTimes90DaysLate                              1.000000   \n",
       "NumberRealEstateLoansOrLines                        -0.059537   \n",
       "NumberOfTime60-89DaysPastDueNotWorse                 0.406874   \n",
       "NumberOfDependents                                  -0.010755   \n",
       "\n",
       "                                      NumberRealEstateLoansOrLines  \\\n",
       "SeriousDlqin2yrs                                          0.071996   \n",
       "RevolvingUtilizationOfUnsecuredLines                      0.023895   \n",
       "age                                                      -0.012109   \n",
       "NumberOfTime30-59DaysPastDueNotWorse                      0.115424   \n",
       "DebtRatio                                                 0.155563   \n",
       "MonthlyIncome                                             0.163128   \n",
       "NumberOfOpenCreditLinesAndLoans                           0.413926   \n",
       "NumberOfTimes90DaysLate                                  -0.059537   \n",
       "NumberRealEstateLoansOrLines                              1.000000   \n",
       "NumberOfTime60-89DaysPastDueNotWorse                      0.029077   \n",
       "NumberOfDependents                                        0.111911   \n",
       "\n",
       "                                      NumberOfTime60-89DaysPastDueNotWorse  \\\n",
       "SeriousDlqin2yrs                                                  0.264463   \n",
       "RevolvingUtilizationOfUnsecuredLines                             -0.007967   \n",
       "age                                                              -0.021181   \n",
       "NumberOfTime30-59DaysPastDueNotWorse                              0.459096   \n",
       "DebtRatio                                                         0.035563   \n",
       "MonthlyIncome                                                    -0.027925   \n",
       "NumberOfOpenCreditLinesAndLoans                                  -0.001983   \n",
       "NumberOfTimes90DaysLate                                           0.406874   \n",
       "NumberRealEstateLoansOrLines                                      0.029077   \n",
       "NumberOfTime60-89DaysPastDueNotWorse                              1.000000   \n",
       "NumberOfDependents                                                0.020031   \n",
       "\n",
       "                                      NumberOfDependents  \n",
       "SeriousDlqin2yrs                                0.068145  \n",
       "RevolvingUtilizationOfUnsecuredLines            0.034545  \n",
       "age                                            -0.187990  \n",
       "NumberOfTime30-59DaysPastDueNotWorse            0.074116  \n",
       "DebtRatio                                      -0.092057  \n",
       "MonthlyIncome                                   0.137240  \n",
       "NumberOfOpenCreditLinesAndLoans                 0.119197  \n",
       "NumberOfTimes90DaysLate                        -0.010755  \n",
       "NumberRealEstateLoansOrLines                    0.111911  \n",
       "NumberOfTime60-89DaysPastDueNotWorse            0.020031  \n",
       "NumberOfDependents                              1.000000  "
      ]
     },
     "execution_count": 8,
     "metadata": {},
     "output_type": "execute_result"
    }
   ],
   "source": [
    "#查看各个系数之间的相关性\n",
    "data.corr()"
   ]
  },
  {
   "cell_type": "code",
   "execution_count": 16,
   "id": "a7ab9b98",
   "metadata": {},
   "outputs": [
    {
     "data": {
      "text/html": [
       "<div>\n",
       "<style scoped>\n",
       "    .dataframe tbody tr th:only-of-type {\n",
       "        vertical-align: middle;\n",
       "    }\n",
       "\n",
       "    .dataframe tbody tr th {\n",
       "        vertical-align: top;\n",
       "    }\n",
       "\n",
       "    .dataframe thead th {\n",
       "        text-align: right;\n",
       "    }\n",
       "</style>\n",
       "<table border=\"1\" class=\"dataframe\">\n",
       "  <thead>\n",
       "    <tr style=\"text-align: right;\">\n",
       "      <th></th>\n",
       "      <th>RevolvingUtilizationOfUnsecuredLines</th>\n",
       "      <th>NumberOfTime30-59DaysPastDueNotWorse</th>\n",
       "      <th>NumberOfTime60-89DaysPastDueNotWorse</th>\n",
       "    </tr>\n",
       "  </thead>\n",
       "  <tbody>\n",
       "    <tr>\n",
       "      <th>0</th>\n",
       "      <td>0.766127</td>\n",
       "      <td>2</td>\n",
       "      <td>0</td>\n",
       "    </tr>\n",
       "    <tr>\n",
       "      <th>3</th>\n",
       "      <td>0.233810</td>\n",
       "      <td>0</td>\n",
       "      <td>0</td>\n",
       "    </tr>\n",
       "    <tr>\n",
       "      <th>4</th>\n",
       "      <td>0.907239</td>\n",
       "      <td>1</td>\n",
       "      <td>0</td>\n",
       "    </tr>\n",
       "    <tr>\n",
       "      <th>6</th>\n",
       "      <td>0.305682</td>\n",
       "      <td>0</td>\n",
       "      <td>0</td>\n",
       "    </tr>\n",
       "    <tr>\n",
       "      <th>9</th>\n",
       "      <td>0.189169</td>\n",
       "      <td>0</td>\n",
       "      <td>0</td>\n",
       "    </tr>\n",
       "  </tbody>\n",
       "</table>\n",
       "</div>"
      ],
      "text/plain": [
       "   RevolvingUtilizationOfUnsecuredLines  NumberOfTime30-59DaysPastDueNotWorse   \n",
       "0                              0.766127                                     2  \\\n",
       "3                              0.233810                                     0   \n",
       "4                              0.907239                                     1   \n",
       "6                              0.305682                                     0   \n",
       "9                              0.189169                                     0   \n",
       "\n",
       "   NumberOfTime60-89DaysPastDueNotWorse  \n",
       "0                                     0  \n",
       "3                                     0  \n",
       "4                                     0  \n",
       "6                                     0  \n",
       "9                                     0  "
      ]
     },
     "execution_count": 16,
     "metadata": {},
     "output_type": "execute_result"
    }
   ],
   "source": [
    "Y = data[\"SeriousDlqin2yrs\"]\n",
    "X = data.iloc[:,[1,3,9]]\n",
    "Y  # 查看Y\n",
    "X.head()  # 查看X"
   ]
  },
  {
   "cell_type": "code",
   "execution_count": 17,
   "id": "121cb2e0",
   "metadata": {},
   "outputs": [],
   "source": [
    "from sklearn.model_selection import train_test_split\n",
    "X_train, X_test, Y_train, Y_test = train_test_split(X, Y, test_size=0.3, random_state=0)  # 设置random_state=0保证每次相同地方开始划分"
   ]
  },
  {
   "cell_type": "code",
   "execution_count": 18,
   "id": "40acdc46",
   "metadata": {},
   "outputs": [
    {
     "data": {
      "text/html": [
       "<style>#sk-container-id-1 {color: black;background-color: white;}#sk-container-id-1 pre{padding: 0;}#sk-container-id-1 div.sk-toggleable {background-color: white;}#sk-container-id-1 label.sk-toggleable__label {cursor: pointer;display: block;width: 100%;margin-bottom: 0;padding: 0.3em;box-sizing: border-box;text-align: center;}#sk-container-id-1 label.sk-toggleable__label-arrow:before {content: \"▸\";float: left;margin-right: 0.25em;color: #696969;}#sk-container-id-1 label.sk-toggleable__label-arrow:hover:before {color: black;}#sk-container-id-1 div.sk-estimator:hover label.sk-toggleable__label-arrow:before {color: black;}#sk-container-id-1 div.sk-toggleable__content {max-height: 0;max-width: 0;overflow: hidden;text-align: left;background-color: #f0f8ff;}#sk-container-id-1 div.sk-toggleable__content pre {margin: 0.2em;color: black;border-radius: 0.25em;background-color: #f0f8ff;}#sk-container-id-1 input.sk-toggleable__control:checked~div.sk-toggleable__content {max-height: 200px;max-width: 100%;overflow: auto;}#sk-container-id-1 input.sk-toggleable__control:checked~label.sk-toggleable__label-arrow:before {content: \"▾\";}#sk-container-id-1 div.sk-estimator input.sk-toggleable__control:checked~label.sk-toggleable__label {background-color: #d4ebff;}#sk-container-id-1 div.sk-label input.sk-toggleable__control:checked~label.sk-toggleable__label {background-color: #d4ebff;}#sk-container-id-1 input.sk-hidden--visually {border: 0;clip: rect(1px 1px 1px 1px);clip: rect(1px, 1px, 1px, 1px);height: 1px;margin: -1px;overflow: hidden;padding: 0;position: absolute;width: 1px;}#sk-container-id-1 div.sk-estimator {font-family: monospace;background-color: #f0f8ff;border: 1px dotted black;border-radius: 0.25em;box-sizing: border-box;margin-bottom: 0.5em;}#sk-container-id-1 div.sk-estimator:hover {background-color: #d4ebff;}#sk-container-id-1 div.sk-parallel-item::after {content: \"\";width: 100%;border-bottom: 1px solid gray;flex-grow: 1;}#sk-container-id-1 div.sk-label:hover label.sk-toggleable__label {background-color: #d4ebff;}#sk-container-id-1 div.sk-serial::before {content: \"\";position: absolute;border-left: 1px solid gray;box-sizing: border-box;top: 0;bottom: 0;left: 50%;z-index: 0;}#sk-container-id-1 div.sk-serial {display: flex;flex-direction: column;align-items: center;background-color: white;padding-right: 0.2em;padding-left: 0.2em;position: relative;}#sk-container-id-1 div.sk-item {position: relative;z-index: 1;}#sk-container-id-1 div.sk-parallel {display: flex;align-items: stretch;justify-content: center;background-color: white;position: relative;}#sk-container-id-1 div.sk-item::before, #sk-container-id-1 div.sk-parallel-item::before {content: \"\";position: absolute;border-left: 1px solid gray;box-sizing: border-box;top: 0;bottom: 0;left: 50%;z-index: -1;}#sk-container-id-1 div.sk-parallel-item {display: flex;flex-direction: column;z-index: 1;position: relative;background-color: white;}#sk-container-id-1 div.sk-parallel-item:first-child::after {align-self: flex-end;width: 50%;}#sk-container-id-1 div.sk-parallel-item:last-child::after {align-self: flex-start;width: 50%;}#sk-container-id-1 div.sk-parallel-item:only-child::after {width: 0;}#sk-container-id-1 div.sk-dashed-wrapped {border: 1px dashed gray;margin: 0 0.4em 0.5em 0.4em;box-sizing: border-box;padding-bottom: 0.4em;background-color: white;}#sk-container-id-1 div.sk-label label {font-family: monospace;font-weight: bold;display: inline-block;line-height: 1.2em;}#sk-container-id-1 div.sk-label-container {text-align: center;}#sk-container-id-1 div.sk-container {/* jupyter's `normalize.less` sets `[hidden] { display: none; }` but bootstrap.min.css set `[hidden] { display: none !important; }` so we also need the `!important` here to be able to override the default hidden behavior on the sphinx rendered scikit-learn.org. See: https://github.com/scikit-learn/scikit-learn/issues/21755 */display: inline-block !important;position: relative;}#sk-container-id-1 div.sk-text-repr-fallback {display: none;}</style><div id=\"sk-container-id-1\" class=\"sk-top-container\"><div class=\"sk-text-repr-fallback\"><pre>LogisticRegression()</pre><b>In a Jupyter environment, please rerun this cell to show the HTML representation or trust the notebook. <br />On GitHub, the HTML representation is unable to render, please try loading this page with nbviewer.org.</b></div><div class=\"sk-container\" hidden><div class=\"sk-item\"><div class=\"sk-estimator sk-toggleable\"><input class=\"sk-toggleable__control sk-hidden--visually\" id=\"sk-estimator-id-1\" type=\"checkbox\" checked><label for=\"sk-estimator-id-1\" class=\"sk-toggleable__label sk-toggleable__label-arrow\">LogisticRegression</label><div class=\"sk-toggleable__content\"><pre>LogisticRegression()</pre></div></div></div></div></div>"
      ],
      "text/plain": [
       "LogisticRegression()"
      ]
     },
     "execution_count": 18,
     "metadata": {},
     "output_type": "execute_result"
    }
   ],
   "source": [
    "from sklearn.linear_model import LogisticRegression\n",
    "lrmodel = LogisticRegression()\n",
    "lrmodel.fit(X_train, Y_train)  # 使用训练集数据拟合模型"
   ]
  },
  {
   "cell_type": "code",
   "execution_count": 19,
   "id": "a0d5687d",
   "metadata": {},
   "outputs": [
    {
     "data": {
      "text/plain": [
       "array([[1.36663492e-03, 3.19610116e-01, 1.56337956e+00]])"
      ]
     },
     "execution_count": 19,
     "metadata": {},
     "output_type": "execute_result"
    }
   ],
   "source": [
    "lrmodel.coef_  # 查看各变量系数"
   ]
  },
  {
   "cell_type": "code",
   "execution_count": 20,
   "id": "0999dcef",
   "metadata": {},
   "outputs": [
    {
     "data": {
      "text/plain": [
       "array([-3.13866892])"
      ]
     },
     "execution_count": 20,
     "metadata": {},
     "output_type": "execute_result"
    }
   ],
   "source": [
    "lrmodel.intercept_  # 查看截距项系数"
   ]
  },
  {
   "cell_type": "code",
   "execution_count": 21,
   "id": "539b3db7",
   "metadata": {},
   "outputs": [
    {
     "data": {
      "text/plain": [
       "array([0, 0, 0, 0, 0, 0, 0, 0, 0, 0, 0, 0, 0, 0, 0, 0, 0, 0, 0, 0])"
      ]
     },
     "execution_count": 21,
     "metadata": {},
     "output_type": "execute_result"
    }
   ],
   "source": [
    "Y_predict = lrmodel.predict(X_test)  # 进行预测\n",
    "Y_predict[0:20]  # 查看前20个预测值"
   ]
  },
  {
   "cell_type": "code",
   "execution_count": 22,
   "id": "4ce4fa62",
   "metadata": {},
   "outputs": [
    {
     "name": "stdout",
     "output_type": "stream",
     "text": [
      "              precision    recall  f1-score   support\n",
      "\n",
      "           0       0.94      0.99      0.97       273\n",
      "           1       0.00      0.00      0.00        16\n",
      "\n",
      "    accuracy                           0.94       289\n",
      "   macro avg       0.47      0.50      0.48       289\n",
      "weighted avg       0.89      0.94      0.91       289\n",
      "\n"
     ]
    }
   ],
   "source": [
    "# 生成报告，查看模型效果\n",
    "from sklearn.metrics import classification_report\n",
    "report = classification_report(Y_test, Y_predict)\n",
    "print(report)"
   ]
  },
  {
   "cell_type": "code",
   "execution_count": 23,
   "id": "667e6352",
   "metadata": {},
   "outputs": [
    {
     "name": "stdout",
     "output_type": "stream",
     "text": [
      "0.9377162629757786\n"
     ]
    }
   ],
   "source": [
    "#给模型打分\n",
    "score=lrmodel.score(X_test,Y_test)\n",
    "print(score)"
   ]
  },
  {
   "cell_type": "code",
   "execution_count": 24,
   "id": "5ed72104",
   "metadata": {},
   "outputs": [
    {
     "name": "stdout",
     "output_type": "stream",
     "text": [
      "0.9377162629757786\n",
      "0.49633699633699635\n"
     ]
    }
   ],
   "source": [
    "# 查看ROC/AUC\n",
    "from sklearn.metrics import accuracy_score, roc_auc_score\n",
    "print(accuracy_score(Y_test, Y_predict))\n",
    "print(roc_auc_score(Y_test, Y_predict))"
   ]
  }
 ],
 "metadata": {
  "kernelspec": {
   "display_name": "Python 3 (ipykernel)",
   "language": "python",
   "name": "python3"
  },
  "language_info": {
   "codemirror_mode": {
    "name": "ipython",
    "version": 3
   },
   "file_extension": ".py",
   "mimetype": "text/x-python",
   "name": "python",
   "nbconvert_exporter": "python",
   "pygments_lexer": "ipython3",
   "version": "3.11.3"
  }
 },
 "nbformat": 4,
 "nbformat_minor": 5
}
